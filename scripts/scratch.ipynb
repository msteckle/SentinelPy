{
 "cells": [
  {
   "cell_type": "code",
   "execution_count": 18,
   "id": "974cd375",
   "metadata": {},
   "outputs": [],
   "source": [
    "import pandas as pd\n",
    "import numpy as np\n",
    "import rioxarray as rxr\n",
    "import xarray as xr\n",
    "import geopandas as gpd\n",
    "from shapely.geometry import box, mapping\n",
    "import os\n",
    "from glob import glob\n",
    "from osgeo import gdal\n",
    "import json\n",
    "\n",
    "gdal.UseExceptions()"
   ]
  },
  {
   "cell_type": "code",
   "execution_count": 19,
   "id": "45a9579d",
   "metadata": {},
   "outputs": [],
   "source": [
    "# for the S1 VV and VH mosaics:\n",
    "#   - clip to AOI\n",
    "#   - save to new files\n",
    "# for the arctic DEM tiles:\n",
    "#   - select grid shapefile tiles that intersect AOI and save tile numbers\n",
    "#   - select DEM tiles that correspond to those tile numbers\n",
    "#   - mosaic DEM tiles for each of aspect, slope, hillshade, elevation\n",
    "#   - clip to AOI for each of aspect, slope, hillshade, elevation\n",
    "#   - save to new files\n",
    "# for the S2 MSI tiles:\n",
    "#   - read in grid CSV and select gridcells that intersect AOI and save cell numbers\n",
    "#   - select S2 MSI tiles that correspond to those cell numbers\n",
    "#   - mosaic S2 MSI tiles for each of B02, B03, B04, B05, B06, B07, B8A, B11, B12\n",
    "#   - clip to AOI for each of B02, B03, B04, B05, B06, B07, B8A, B11, B12\n",
    "#   - save to new files"
   ]
  },
  {
   "cell_type": "markdown",
   "id": "a6799bd5",
   "metadata": {},
   "source": [
    "# Paths to files"
   ]
  },
  {
   "cell_type": "code",
   "execution_count": 20,
   "id": "2d89f2ce",
   "metadata": {},
   "outputs": [],
   "source": [
    "# S1 paths\n",
    "outdir = \"/mnt/poseidon/remotesensing/arctic/data/rasters/s2_sr/tmp/out\"\n",
    "s1_tiles = sorted(glob(\"/mnt/poseidon/remotesensing/arctic/data/rasters/s1_grd_tiled/*.tif\"))"
   ]
  },
  {
   "cell_type": "code",
   "execution_count": 21,
   "id": "412acee3",
   "metadata": {},
   "outputs": [],
   "source": [
    "# S2 MSI paths\n",
    "grid_csv = \"/mnt/poseidon/remotesensing/arctic/data/rasters/s2_sr/panarctic_grid/panarctic_0p25_gridcells.csv\"\n",
    "s2_base_pth = \"/mnt/poseidon/remotesensing/arctic/data/rasters/s2_sr/composites\""
   ]
  },
  {
   "cell_type": "code",
   "execution_count": 22,
   "id": "87645b67",
   "metadata": {},
   "outputs": [],
   "source": [
    "# ArcticDEM paths\n",
    "grid_shp = \"/mnt/poseidon/remotesensing/arctic/data/vectors/supplementary/tundra_alaska_grid_latlon_aoi/tundra_alaska_grid_aoi.shp\"\n",
    "dem_aspect_tiles = glob(\"/mnt/poseidon/remotesensing/arctic/data/rasters/arctic_dem/*_dem_aspect.tif\")\n",
    "dem_slope_tiles = glob(\"/mnt/poseidon/remotesensing/arctic/data/rasters/arctic_dem/*_dem_slope.tif\")\n",
    "dem_hillshade_tiles = glob(\"/mnt/poseidon/remotesensing/arctic/data/rasters/arctic_dem/*_dem_hillshade.tif\")\n",
    "dem_elevation_tiles = glob(\"/mnt/poseidon/remotesensing/arctic/data/rasters/arctic_dem/*_dem.tif\")"
   ]
  },
  {
   "cell_type": "markdown",
   "id": "31c2eb77",
   "metadata": {},
   "source": [
    "# Basic Parameters"
   ]
  },
  {
   "cell_type": "code",
   "execution_count": 23,
   "id": "76d7d466",
   "metadata": {},
   "outputs": [],
   "source": [
    "# params\n",
    "bbox = box(-150, 67, -148, 69)\n",
    "xres = 0.000179663056824 \n",
    "yres = 0.000179663056824\n",
    "epsg = 'EPSG:4326'"
   ]
  },
  {
   "cell_type": "code",
   "execution_count": 24,
   "id": "d3cf459d",
   "metadata": {},
   "outputs": [],
   "source": [
    "bbox = box(-150, 67, -148, 69)\n",
    "aoi_geojson = {\n",
    "    \"type\": \"FeatureCollection\",\n",
    "    \"name\": \"aoi\",\n",
    "    \"crs\": {\"type\": \"name\", \"properties\": {\"name\": \"EPSG:4326\"}},\n",
    "    \"features\": [{\"type\": \"Feature\", \"properties\": {}, \"geometry\": mapping(bbox)}],\n",
    "}\n",
    "\n",
    "# Write to GDAL's in-memory filesystem\n",
    "aoi_path = \"/vsimem/aoi.geojson\"\n",
    "_ = gdal.FileFromMemBuffer(aoi_path, json.dumps(aoi_geojson))"
   ]
  },
  {
   "cell_type": "markdown",
   "id": "0431f029",
   "metadata": {},
   "source": [
    "# Prep S1"
   ]
  },
  {
   "cell_type": "code",
   "execution_count": 25,
   "id": "6cc18e79",
   "metadata": {},
   "outputs": [],
   "source": [
    "# select gridcells from shp that intersect AOI\n",
    "grid = gpd.read_file(grid_shp)\n",
    "grid = grid.to_crs(epsg)\n",
    "grid_aoi = grid[grid.intersects(bbox)]\n",
    "grid_aoi_ids = grid_aoi[\"FID\"].tolist()\n",
    "\n",
    "# select tifs that correspond to those gridcells\n",
    "def select_tiles(tiles, ids, band):\n",
    "    selected = []\n",
    "    for tile in tiles:\n",
    "        for id in ids:\n",
    "            if f\"GRIDCELL_{id}_{band}\" in tile:\n",
    "                selected.append(tile)\n",
    "    return selected\n",
    "s1_vv_aoi = select_tiles(s1_tiles, grid_aoi_ids, \"VV\")\n",
    "s1_vh_aoi = select_tiles(s1_tiles, grid_aoi_ids, \"VH\")"
   ]
  },
  {
   "cell_type": "code",
   "execution_count": 26,
   "id": "c37e436d",
   "metadata": {},
   "outputs": [],
   "source": [
    "# gdal progress callback\n",
    "def gdal_progress_cb(complete, message, userdata):\n",
    "    label = userdata or \"\"\n",
    "    gdal.TermProgress_nocb(complete, label)\n",
    "    return 1  # non-zero to continue, 0 would abort\n",
    "\n",
    "# gdal warp creation options\n",
    "wo = {\"NUM_THREADS\": \"ALL_CPUS\", \"INIT_DEST\": \"NO_DATA\"}\n",
    "co = [\n",
    "    \"TILED=YES\",\n",
    "    \"COMPRESS=ZSTD\",\n",
    "    \"ZSTD_LEVEL=15\",\n",
    "    \"PREDICTOR=3\",\n",
    "    \"BIGTIFF=YES\",\n",
    "    \"BLOCKXSIZE=512\",\n",
    "    \"BLOCKYSIZE=512\",\n",
    "]\n",
    "\n",
    "# gdal warp kwargs\n",
    "kw = dict(\n",
    "    cutlineDSName=aoi_path,\n",
    "    cutlineSRS=\"EPSG:4326\",\n",
    "    cropToCutline=True,\n",
    "    dstSRS=epsg,\n",
    "    outputBounds=bbox.bounds,\n",
    "    outputBoundsSRS=\"EPSG:4326\",\n",
    "    xRes=xres,\n",
    "    yRes=yres,\n",
    "    targetAlignedPixels=True,\n",
    "    outputType=gdal.GDT_Float32,\n",
    "    resampleAlg=\"bilinear\",\n",
    "    dstNodata=-9999,\n",
    "    creationOptions=co,\n",
    "    warpOptions=wo,\n",
    ")"
   ]
  },
  {
   "cell_type": "code",
   "execution_count": 13,
   "id": "578ef08e",
   "metadata": {},
   "outputs": [
    {
     "name": "stdout",
     "output_type": "stream",
     "text": [
      "0...10...20...30...40...50...60...70...80...90...100 - done.\n",
      "0...10...20...30...40...50.."
     ]
    },
    {
     "name": "stdout",
     "output_type": "stream",
     "text": [
      ".60...70...80...90...100 - done.\n"
     ]
    }
   ],
   "source": [
    "# create temporary mosaic of selected tiles\n",
    "vv_vrt = \"/vsimem/s1_vv_mosaic.vrt\"\n",
    "vh_vrt = \"/vsimem/s1_vh_mosaic.vrt\"\n",
    "ds = gdal.BuildVRT(vv_vrt, s1_vv_aoi,\n",
    "                   callback=gdal_progress_cb, callback_data=\"[BuildVRT VV] \")\n",
    "assert ds is not None, \"BuildVRT VV returned None\"\n",
    "ds = None\n",
    "assert gdal.VSIStatL(vv_vrt) is not None, \"VV VRT not written\"\n",
    "\n",
    "ds = gdal.BuildVRT(vh_vrt, s1_vh_aoi,\n",
    "                   callback=gdal_progress_cb, callback_data=\"[BuildVRT VH] \")\n",
    "assert ds is not None, \"BuildVRT VH returned None\"\n",
    "ds = None\n",
    "assert gdal.VSIStatL(vh_vrt) is not None, \"VH VRT not written\""
   ]
  },
  {
   "cell_type": "code",
   "execution_count": null,
   "id": "eb4b46c0",
   "metadata": {},
   "outputs": [
    {
     "name": "stdout",
     "output_type": "stream",
     "text": [
      "0...10...20...30...40...50...60...70...80...90...100 - done.\n",
      "0...10...20...30...40...50...60...70...80...90...100 - done.\n"
     ]
    },
    {
     "data": {
      "text/plain": [
       "<osgeo.gdal.Dataset; proxy of <Swig Object of type 'GDALDatasetShadow *' at 0x7f976c5099b0> >"
      ]
     },
     "execution_count": 14,
     "metadata": {},
     "output_type": "execute_result"
    }
   ],
   "source": [
    "# clip and save to new files\n",
    "vv_tif_aoi = os.path.join(outdir, \"S1_VV_AOI.tif\")\n",
    "vh_tif_aoi = os.path.join(outdir, \"S1_VH_AOI.tif\")\n",
    "\n",
    "gdal.Warp(vv_tif_aoi, vv_vrt, callback=gdal_progress_cb, callback_data=\"[Warp VV] \", **kw)\n",
    "gdal.Warp(vh_tif_aoi, vh_vrt, callback=gdal_progress_cb, callback_data=\"[Warp VH] \", **kw)"
   ]
  },
  {
   "cell_type": "code",
   "execution_count": null,
   "id": "873b6116",
   "metadata": {},
   "outputs": [],
   "source": [
    "# clean up\n",
    "_ = gdal.Unlink(vv_vrt)\n",
    "_ = gdal.Unlink(vh_vrt)"
   ]
  },
  {
   "cell_type": "markdown",
   "id": "34cbf287",
   "metadata": {},
   "source": [
    "# Prep S2\n"
   ]
  },
  {
   "cell_type": "code",
   "execution_count": 27,
   "id": "920ea9af",
   "metadata": {},
   "outputs": [],
   "source": [
    "# choose S2 gridcells that intersect AOI\n",
    "# CSV layout:\n",
    "# tile_id_rc,tile_id_geo,xmin,ymin,xmax,ymax,row,col\n",
    "# Q025_R000_C0000,Q025_W180_00_N89_75,-180.000000,89.750000,-179.750000,90.000000,0,0\n",
    "grid = pd.read_csv(grid_csv)\n",
    "grid[\"geometry\"] = grid.apply(lambda row: box(row.xmin, row.ymin, row.xmax, row.ymax), axis=1)\n",
    "grid = gpd.GeoDataFrame(grid, geometry=\"geometry\", crs=\"EPSG:4326\")\n",
    "grid_aoi = grid[grid.intersects(bbox)]\n",
    "grid_aoi_ids = grid_aoi[\"tile_id_rc\"].tolist()"
   ]
  },
  {
   "cell_type": "code",
   "execution_count": 29,
   "id": "565852c9",
   "metadata": {},
   "outputs": [],
   "source": [
    "# gdal warp creation options\n",
    "wo = {\"NUM_THREADS\": \"ALL_CPUS\", \"INIT_DEST\": \"NO_DATA\"}\n",
    "co = [\n",
    "    \"TILED=YES\",\n",
    "    \"COMPRESS=ZSTD\",\n",
    "    \"ZSTD_LEVEL=15\",\n",
    "    \"PREDICTOR=2\",\n",
    "    \"BIGTIFF=YES\",\n",
    "    \"BLOCKXSIZE=512\",\n",
    "    \"BLOCKYSIZE=512\",\n",
    "]\n",
    "\n",
    "# gdal warp kwargs\n",
    "kw = dict(\n",
    "    cutlineDSName=aoi_path,\n",
    "    cutlineSRS=\"EPSG:4326\",\n",
    "    cropToCutline=True,\n",
    "    dstSRS=epsg,\n",
    "    outputBounds=bbox.bounds,\n",
    "    outputBoundsSRS=\"EPSG:4326\",\n",
    "    xRes=xres,\n",
    "    yRes=yres,\n",
    "    targetAlignedPixels=True,\n",
    "    outputType=gdal.GDT_UInt16,\n",
    "    resampleAlg=\"nearest\",\n",
    "    dstNodata=65535,\n",
    "    creationOptions=co,\n",
    "    warpOptions=wo,\n",
    ")"
   ]
  },
  {
   "cell_type": "code",
   "execution_count": 30,
   "id": "d3b0c638",
   "metadata": {},
   "outputs": [
    {
     "name": "stdout",
     "output_type": "stream",
     "text": [
      "..40...50...60...70...80...90...100 - done.\n",
      "0...10...20...30...40...50...60...70...80...90...100 - done.\n",
      "0...10...20...30...40...50...60...70...80...90...100 - done.\n",
      "0...10...20...30...40...50...60...70...80...90...100 - done.\n",
      "0...10...20...30...40...50...60...70...80...90...100 - done.\n",
      "0...10...20...30...40...50...60...70...80...90...100 - done.\n",
      "0...10...20...30...40...50...60...70...80...90...100 - done.\n",
      "0...10...20...30...40...50...60...70...80...90...100 - done.\n",
      "0...10...20...30...40...50...60...70...80...90...100 - done.\n",
      "0...10...20...30...40...50...60...70...80...90...100 - done.\n",
      "0...10...20...30...40...50...60...70...80...90...100 - done.\n",
      "0...10...20...30...40...50...60...70...80...90...100 - done.\n",
      "0...10...20...30...40...50...60...70...80...90...100 - done.\n",
      "0...10...20...30...40...50...60...70...80...90...100 - done.\n",
      "0...10...20...30...40...50...60...70...80...90...100 - done.\n",
      "0...10...20...30...40...50...60...70...80...90...100 - done.\n",
      "0...10...20...30...40...50...60...70...80...90...100 - done.\n",
      "0...10...20...30...40...50...60...70...80...90...100 - done.\n"
     ]
    }
   ],
   "source": [
    "# loop through S2 bands\n",
    "bands = [\"B02\", \"B03\", \"B04\", \"B05\", \"B06\", \"B07\", \"B8A\", \"B11\", \"B12\"]\n",
    "for band in bands:\n",
    "\n",
    "    # select tifs that correspond to those gridcells\n",
    "    def select_tiles(tiles, ids, band):\n",
    "        selected = []\n",
    "        for tile in tiles:\n",
    "            for id in ids:\n",
    "                if f\"cell_{id}_{band}\" in tile:\n",
    "                    selected.append(tile)\n",
    "        return selected\n",
    "    s2_tiles = sorted(glob(f\"{s2_base_pth}/*/cell_*_{band}_median_clip.tif\"))\n",
    "    s2_aoi = select_tiles(s2_tiles, grid_aoi_ids, band)\n",
    "\n",
    "    # create temporary mosaic of selected tiles\n",
    "    s2_vrt = f\"/vsimem/s2_{band}_mosaic.vrt\"\n",
    "    ds = gdal.BuildVRT(s2_vrt, s2_aoi,\n",
    "                       callback=gdal_progress_cb, callback_data=f\"[BuildVRT {band}] \")\n",
    "    assert ds is not None, f\"BuildVRT {band} returned None\"\n",
    "    ds = None\n",
    "    assert gdal.VSIStatL(s2_vrt) is not None, f\"{band} VRT not written\"\n",
    "\n",
    "    # clip and save to new files\n",
    "    s2_tif_aoi = os.path.join(outdir, f\"S2_{band}_AOI.tif\")\n",
    "    gdal.Warp(s2_tif_aoi, s2_vrt, callback=gdal_progress_cb, callback_data=f\"[Warp {band}] \", **kw)\n",
    "    \n",
    "    # clean up\n",
    "    _ = gdal.Unlink(s2_vrt)"
   ]
  },
  {
   "cell_type": "markdown",
   "id": "e5933ccb",
   "metadata": {},
   "source": [
    "# Prep ArcticDEM"
   ]
  },
  {
   "cell_type": "code",
   "execution_count": null,
   "id": "07e69f41",
   "metadata": {},
   "outputs": [],
   "source": []
  }
 ],
 "metadata": {
  "kernelspec": {
   "display_name": ".venv",
   "language": "python",
   "name": "python3"
  },
  "language_info": {
   "codemirror_mode": {
    "name": "ipython",
    "version": 3
   },
   "file_extension": ".py",
   "mimetype": "text/x-python",
   "name": "python",
   "nbconvert_exporter": "python",
   "pygments_lexer": "ipython3",
   "version": "3.11.12"
  }
 },
 "nbformat": 4,
 "nbformat_minor": 5
}
